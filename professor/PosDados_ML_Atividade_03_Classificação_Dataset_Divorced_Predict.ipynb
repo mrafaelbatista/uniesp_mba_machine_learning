{
  "nbformat": 4,
  "nbformat_minor": 0,
  "metadata": {
    "colab": {
      "provenance": [],
      "authorship_tag": "ABX9TyONyrlzAOsb/+PzvD+fA/iB",
      "include_colab_link": true
    },
    "kernelspec": {
      "name": "python3",
      "display_name": "Python 3"
    },
    "language_info": {
      "name": "python"
    }
  },
  "cells": [
    {
      "cell_type": "markdown",
      "metadata": {
        "id": "view-in-github",
        "colab_type": "text"
      },
      "source": [
        "<a href=\"https://colab.research.google.com/github/mrafaelbatista/uniesp_mba_machine_learning/blob/main/classwork/PosDados_ML_Atividade_03_Classifica%C3%A7%C3%A3o_Dataset_Divorced_Predict.ipynb\" target=\"_parent\"><img src=\"https://colab.research.google.com/assets/colab-badge.svg\" alt=\"Open In Colab\"/></a>"
      ]
    },
    {
      "cell_type": "markdown",
      "source": [
        "MBA em Engenharia e Ciência de Dados<br />\n",
        "Machine Learning"
      ],
      "metadata": {
        "id": "Kn2sfw9gEorZ"
      }
    },
    {
      "cell_type": "markdown",
      "source": [
        "# Instalação de Pacotes\n",
        "\n",
        "É possível instalar pacotes de maneira muito simples no Google Colab. Utilize o comando abaixo como exemplo:\n",
        "\n",
        "`!pip install pandas`\n",
        "\n",
        "No exemplo, podemos verificar a instalação do pandas. De forma similar utilize para instalar outras bibliotecas."
      ],
      "metadata": {
        "id": "xztEzorqFBnB"
      }
    },
    {
      "cell_type": "markdown",
      "source": [
        "# Importação das bibliotecas\n",
        "\n",
        "Algumas bibliotecas não estão disponíveis por padrão no código Python que será utilizado para resolução dos problemas que envolvem Ciência de Dados.\n",
        "\n",
        "Abaixo um código de exemplo de como importar o sklearn.\n",
        "\n",
        "`from sklearn.svm import LinearSVR`\n",
        "\n",
        "O exemplo tem como requisito a instalação do pacote sklearn e neste exemplo está importando o Linear SVR."
      ],
      "metadata": {
        "id": "63seHVjHFm6H"
      }
    },
    {
      "cell_type": "code",
      "source": [
        "import pandas as pd\n",
        "import seaborn as sns\n",
        "from matplotlib import pyplot as plt\n",
        "\n",
        "# Datasets\n",
        "from sklearn import datasets\n",
        "\n",
        "from sklearn.model_selection import train_test_split\n",
        "\n",
        "from sklearn.svm import LinearSVC\n",
        "from sklearn.tree import DecisionTreeClassifier, plot_tree\n",
        "\n",
        "from sklearn.metrics import accuracy_score\n",
        "from sklearn.metrics import confusion_matrix"
      ],
      "metadata": {
        "id": "zl9Z2eTBGQDV"
      },
      "execution_count": null,
      "outputs": []
    },
    {
      "cell_type": "markdown",
      "source": [
        "# Leitura da Base de Dados\n",
        "\n",
        "A base de dados que será utilizada pode ter diversas fontes, como visto na disciplina de Inferência Estatística e Data Mining.\n",
        "\n",
        "`pd.read_csv('data.csv') ` <br />\n",
        "`pd.read_excel('tmp.xlsx', index_col=0)` <br />\n",
        "`pd.read_json('meu_json.json')`\n",
        "\n",
        "Estes são alguns exemplos de leitura de arquivos. Mas, pode ser necessário a leitura de outro tipo de base de dados."
      ],
      "metadata": {
        "id": "9rg_-dggGQxn"
      }
    },
    {
      "cell_type": "code",
      "source": [
        "df = pd.read_csv('https://raw.githubusercontent.com/mrafaelbatista/uniesp-mba-dados-machine-learning/master/db/divorce.csv', sep=';')"
      ],
      "metadata": {
        "id": "aD4JQoFdHW_j"
      },
      "execution_count": null,
      "outputs": []
    },
    {
      "cell_type": "markdown",
      "source": [
        "# Visualização dos Dados\n",
        "\n",
        "É possível utilizar funções como df.head(), ou mesmo plotar algum gráfico para compreender o comportamento dos dados."
      ],
      "metadata": {
        "id": "fFVqgKOrHXi6"
      }
    },
    {
      "cell_type": "code",
      "source": [
        "df.shape"
      ],
      "metadata": {
        "id": "LAlNh7SLvE6J"
      },
      "execution_count": null,
      "outputs": []
    },
    {
      "cell_type": "code",
      "source": [
        "df.head()"
      ],
      "metadata": {
        "id": "iFwecjIVHcSN"
      },
      "execution_count": null,
      "outputs": []
    },
    {
      "cell_type": "markdown",
      "source": [
        "# Pré-Processamento\n",
        "*Apenas se necessário* realizar o pré-processamento. Em casos de estudo a base de dados costuma já ser trabalhada e pronta para os testes. Por outro lado, no mundo real, esta é uma etapa importante."
      ],
      "metadata": {
        "id": "FIa237V5HcpC"
      }
    },
    {
      "cell_type": "code",
      "source": [],
      "metadata": {
        "id": "LqaAdiejYfoS"
      },
      "execution_count": null,
      "outputs": []
    },
    {
      "cell_type": "markdown",
      "source": [
        "# Separação em Treino e Teste"
      ],
      "metadata": {
        "id": "WvAF6j_MHkfk"
      }
    },
    {
      "cell_type": "code",
      "source": [
        "# Separar os valores de X e y\n",
        "X = df.iloc[:, 20:31]\n",
        "y = df['Class']"
      ],
      "metadata": {
        "id": "O9oBXzmDHpUf"
      },
      "execution_count": null,
      "outputs": []
    },
    {
      "cell_type": "code",
      "source": [
        "X_train, X_test, y_train, y_test = train_test_split(\n",
        "    X, y,\n",
        "    test_size=0.33,\n",
        "    random_state=42,\n",
        "    stratify=y)"
      ],
      "metadata": {
        "id": "g4vhUwTmZaMY"
      },
      "execution_count": null,
      "outputs": []
    },
    {
      "cell_type": "markdown",
      "source": [
        "# Construção dos Modelos"
      ],
      "metadata": {
        "id": "y6W2_NHiHqLV"
      }
    },
    {
      "cell_type": "markdown",
      "source": [
        "## DecisionTree"
      ],
      "metadata": {
        "id": "Mkp3oBQPhZcc"
      }
    },
    {
      "cell_type": "code",
      "source": [
        "clf_dt = DecisionTreeClassifier()\n",
        "clf_dt = clf_dt.fit(X_train, y_train)"
      ],
      "metadata": {
        "id": "-DhDYBh7hbl0"
      },
      "execution_count": null,
      "outputs": []
    },
    {
      "cell_type": "code",
      "source": [
        "y_pred_dt = clf_dt.predict(X_test)"
      ],
      "metadata": {
        "id": "1u2z8APThzK0"
      },
      "execution_count": null,
      "outputs": []
    },
    {
      "cell_type": "code",
      "source": [
        "plt.figure(figsize=(12, 8))  # Ajuste o tamanho da figura conforme necessário\n",
        "plot_tree(clf_dt, class_names=True, filled=True, rounded=True)\n",
        "plt.show()"
      ],
      "metadata": {
        "id": "JW0436bMiWb9"
      },
      "execution_count": null,
      "outputs": []
    },
    {
      "cell_type": "markdown",
      "source": [
        "### Avaliação das Métricas"
      ],
      "metadata": {
        "id": "E3KJSDi-h6sj"
      }
    },
    {
      "cell_type": "code",
      "source": [
        "accuracy_score(y_test, y_pred_dt)"
      ],
      "metadata": {
        "id": "Z_x2wxwUh9P8"
      },
      "execution_count": null,
      "outputs": []
    },
    {
      "cell_type": "code",
      "source": [
        "matriz_confusao_dt = confusion_matrix(y_pred_dt, y_test)"
      ],
      "metadata": {
        "id": "ZxTIs1aniClp"
      },
      "execution_count": null,
      "outputs": []
    },
    {
      "cell_type": "code",
      "source": [
        "plt.figure(figsize=(8, 6))\n",
        "sns.heatmap(matriz_confusao_dt, annot=True, fmt='d', cmap='Reds',\n",
        "            xticklabels=clf_dt.classes_, yticklabels=clf_dt.classes_)\n",
        "plt.xlabel('Previsão')\n",
        "plt.ylabel('Real')\n",
        "plt.title('Matriz de Confusão')\n",
        "plt.show()"
      ],
      "metadata": {
        "id": "LH4LfFCtiKJT"
      },
      "execution_count": null,
      "outputs": []
    },
    {
      "cell_type": "markdown",
      "source": [
        "## LinearSVC"
      ],
      "metadata": {
        "id": "wCsf4GsHhQ6B"
      }
    },
    {
      "cell_type": "code",
      "source": [
        "clf = LinearSVC()\n",
        "clf = clf.fit(X_train, y_train)"
      ],
      "metadata": {
        "id": "c06bvEM1HuMb"
      },
      "execution_count": null,
      "outputs": []
    },
    {
      "cell_type": "code",
      "source": [
        "y_pred = clf.predict(X_test)"
      ],
      "metadata": {
        "id": "mXoarKt2cYx1"
      },
      "execution_count": null,
      "outputs": []
    },
    {
      "cell_type": "markdown",
      "source": [
        "### Avaliação das Métricas"
      ],
      "metadata": {
        "id": "M6Iim8LEHubj"
      }
    },
    {
      "cell_type": "code",
      "source": [
        "# Acurácia\n",
        "accuracy_score(y_test, y_pred)"
      ],
      "metadata": {
        "id": "ZZQYBV9lcgvX"
      },
      "execution_count": null,
      "outputs": []
    },
    {
      "cell_type": "code",
      "source": [
        "matriz_confusao = confusion_matrix(y_pred, y_test)"
      ],
      "metadata": {
        "id": "XFx9qXb9d4A4"
      },
      "execution_count": null,
      "outputs": []
    },
    {
      "cell_type": "code",
      "source": [
        "plt.figure(figsize=(8, 6))\n",
        "sns.heatmap(matriz_confusao, annot=True, fmt='d', cmap='Reds',\n",
        "            xticklabels=clf.classes_, yticklabels=clf.classes_)\n",
        "plt.xlabel('Previsão')\n",
        "plt.ylabel('Real')\n",
        "plt.title('Matriz de Confusão')\n",
        "plt.show()"
      ],
      "metadata": {
        "id": "Y8nMEfcNefDq"
      },
      "execution_count": null,
      "outputs": []
    }
  ]
}